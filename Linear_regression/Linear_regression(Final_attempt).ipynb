{
  "nbformat": 4,
  "nbformat_minor": 0,
  "metadata": {
    "colab": {
      "provenance": []
    },
    "kernelspec": {
      "name": "python3",
      "display_name": "Python 3"
    },
    "language_info": {
      "name": "python"
    }
  },
  "cells": [
    {
      "cell_type": "code",
      "execution_count": null,
      "metadata": {
        "colab": {
          "base_uri": "https://localhost:8080/"
        },
        "id": "tvXAY-zrlLjR",
        "outputId": "439d65c6-40cf-432c-e3de-e6f3921f37b4"
      },
      "outputs": [
        {
          "output_type": "stream",
          "name": "stdout",
          "text": [
            "Mounted at /content/drive/\n"
          ]
        }
      ],
      "source": [
        "from google.colab import drive\n",
        "drive.mount('/content/drive/')"
      ]
    },
    {
      "cell_type": "code",
      "source": [
        "import numpy as np\n",
        "import pandas as pd \n",
        "import matplotlib.pyplot as plt\n",
        "import random"
      ],
      "metadata": {
        "id": "SJ2gOddGlOv4"
      },
      "execution_count": null,
      "outputs": []
    },
    {
      "cell_type": "code",
      "source": [
        "''' Reads the and define the training and cross validation set '''\n",
        "df = pd.read_csv(\"/content/drive/MyDrive/Project(WOC)/linear_train.csv\" )\n",
        "Y_train = np.array(df.iloc[0:45000,21:22],dtype='float32')\n",
        "X_train= np.array(df.iloc[0:45000,1:21],dtype = 'float32')\n",
        "Y_CVS = np.array(df.iloc[0:5000,21:22],dtype='float32')\n",
        "X_CVS= np.array(df.iloc[0:5000,1:21],dtype = 'float32')\n",
        "Y_train = Y_train.reshape(-1,1)"
      ],
      "metadata": {
        "id": "TnHjixlklZyo"
      },
      "execution_count": null,
      "outputs": []
    },
    {
      "cell_type": "code",
      "source": [
        "Y_train.shape"
      ],
      "metadata": {
        "colab": {
          "base_uri": "https://localhost:8080/"
        },
        "id": "VbX1SeL6NEDp",
        "outputId": "88cc0de1-6f11-461d-bc0e-63163815c279"
      },
      "execution_count": null,
      "outputs": [
        {
          "output_type": "execute_result",
          "data": {
            "text/plain": [
              "(45000, 1)"
            ]
          },
          "metadata": {},
          "execution_count": 4
        }
      ]
    },
    {
      "cell_type": "code",
      "source": [
        "J = []\n",
        "iterations= []"
      ],
      "metadata": {
        "id": "OhwSvbcJw1XB"
      },
      "execution_count": null,
      "outputs": []
    },
    {
      "cell_type": "code",
      "source": [
        "''' Reads the and define the test set '''\n",
        "df1 = pd.read_csv(\"/content/drive/MyDrive/Project(WOC)/linear_test_data.csv\" )\n",
        "X_test = np.array(df1.iloc[0:20000,1:21])"
      ],
      "metadata": {
        "id": "ADA8L0N_lcZR"
      },
      "execution_count": null,
      "outputs": []
    },
    {
      "cell_type": "code",
      "source": [
        "class Linear_Regression:\n",
        "    def __init__(self,X,Y,learning_rate,epoches):\n",
        "        self.w = np.zeros((1,X.shape[1]))\n",
        "        self.b =  random.randint(0,100)\n",
        "        self.Train(X,Y,learning_rate,epoches)\n",
        "    def Normalization(self,X):\n",
        "      #z-score normalization\n",
        "      self.mu = np.mean(X,axis = 0)\n",
        "      self.sigma= np.std(X,axis =0)\n",
        "      X_norm = (X-self.mu)/self.sigma\n",
        "      return X_norm\n",
        "    def gradient(self,X,Y):\n",
        "        m = X.shape[0]#number of training examples \n",
        "        n = X.shape[1]#number of features \n",
        "        dj_dw = np.zeros((1,n))\n",
        "        dj_db = 0\n",
        "        dj_db = np.sum((np.dot(self.w,X.transpose()) + self.b - Y.reshape(1,-1)),axis =1)\n",
        "        dj_db /= m\n",
        "        dj_dw = np.dot((np.dot(self.w,X.transpose())+self.b-Y.reshape(1,-1)),X)\n",
        "        dj_dw /= m\n",
        "        return dj_dw,dj_db\n",
        "    def Train(self,X,Y,learning_rate,epoches):\n",
        "        X_norm = self.Normalization(X)\n",
        "        self.Gradientdescent(X_norm,Y,learning_rate,epoches)\n",
        "    def Gradientdescent(self,X,Y,learning_rate,epoches):\n",
        "      t = 0\n",
        "      for j in range (0,epoches):\n",
        "        t= t+1\n",
        "        if j%50==0:\n",
        "          print(f\"Cost function at {j} th iteration is :-  {self.cost_function(X,Y)}\")\n",
        "          J.append(self.cost_function(X,Y))\n",
        "          iterations.append(j)\n",
        "        dj_dw,dj_db = self.gradient(X,Y)\n",
        "        self.w -=(learning_rate)*dj_dw\n",
        "        self.b -=  (learning_rate)*dj_db\n",
        "      print(self.w)\n",
        "      print(self.b)\n",
        "    def cost_function(self,X,Y):\n",
        "      z = (np.dot(self.w,X.transpose())).reshape(1,X.shape[0])\n",
        "      z -= Y.reshape(1,-1)\n",
        "      z += self.b\n",
        "      z = z**2\n",
        "      z /= 2*X.shape[0]\n",
        "      return np.sum(z,axis = 1)\n",
        "    def evaluate(self,X_test_data):\n",
        "      '''Note i have defined attributes of mu and sigma in the class because we need to same sigma(standard deviation) \n",
        "      and mu(mean) as the of training data to get correct results'''\n",
        "      X_test_data_norm= (X_test_data-self.mu)/self.sigma\n",
        "      Y= (np.dot(self.w,X_test_data_norm.transpose()) + self.b)\n",
        "      return Y\n",
        "    def CVS(self,X_check,Y_check):\n",
        "      Y_pred = self.evaluate(X_check)\n",
        "      return (1 - (np.sum((Y_check.reshape(1,-1) - Y_pred)**2,axis = 1))/(np.sum((Y_check.reshape(1,-1) - np.mean(Y_check.reshape(1,-1),axis = 1))**2,axis = 1)))*100 "
      ],
      "metadata": {
        "id": "HUalP_2gle8G"
      },
      "execution_count": null,
      "outputs": []
    },
    {
      "cell_type": "code",
      "source": [
        " l = Linear_Regression(X_train,Y_train,0.6,1800)"
      ],
      "metadata": {
        "id": "WK87f_0Ulmv2",
        "colab": {
          "base_uri": "https://localhost:8080/"
        },
        "outputId": "e4954246-2371-40fa-b948-08cb85dec6c6"
      },
      "execution_count": null,
      "outputs": [
        {
          "output_type": "stream",
          "name": "stdout",
          "text": [
            "Cost function at 0 th iteration is :-  [30714.92360365]\n",
            "Cost function at 50 th iteration is :-  [4779.97042004]\n",
            "Cost function at 100 th iteration is :-  [4779.97042004]\n",
            "Cost function at 150 th iteration is :-  [4779.97042004]\n",
            "Cost function at 200 th iteration is :-  [4779.97042004]\n",
            "Cost function at 250 th iteration is :-  [4779.97042004]\n",
            "Cost function at 300 th iteration is :-  [4779.97042004]\n",
            "Cost function at 350 th iteration is :-  [4779.97042004]\n",
            "Cost function at 400 th iteration is :-  [4779.97042004]\n",
            "Cost function at 450 th iteration is :-  [4779.97042004]\n",
            "Cost function at 500 th iteration is :-  [4779.97042004]\n",
            "Cost function at 550 th iteration is :-  [4779.97042004]\n",
            "Cost function at 600 th iteration is :-  [4779.97042004]\n",
            "Cost function at 650 th iteration is :-  [4779.97042004]\n",
            "Cost function at 700 th iteration is :-  [4779.97042004]\n",
            "Cost function at 750 th iteration is :-  [4779.97042004]\n",
            "Cost function at 800 th iteration is :-  [4779.97042004]\n",
            "Cost function at 850 th iteration is :-  [4779.97042004]\n",
            "Cost function at 900 th iteration is :-  [4779.97042004]\n",
            "Cost function at 950 th iteration is :-  [4779.97042004]\n",
            "Cost function at 1000 th iteration is :-  [4779.97042004]\n",
            "Cost function at 1050 th iteration is :-  [4779.97042004]\n",
            "Cost function at 1100 th iteration is :-  [4779.97042004]\n",
            "Cost function at 1150 th iteration is :-  [4779.97042004]\n",
            "Cost function at 1200 th iteration is :-  [4779.97042004]\n",
            "Cost function at 1250 th iteration is :-  [4779.97042004]\n",
            "Cost function at 1300 th iteration is :-  [4779.97042004]\n",
            "Cost function at 1350 th iteration is :-  [4779.97042004]\n",
            "Cost function at 1400 th iteration is :-  [4779.97042004]\n",
            "Cost function at 1450 th iteration is :-  [4779.97042004]\n",
            "Cost function at 1500 th iteration is :-  [4779.97042004]\n",
            "Cost function at 1550 th iteration is :-  [4779.97042004]\n",
            "Cost function at 1600 th iteration is :-  [4779.97042004]\n",
            "Cost function at 1650 th iteration is :-  [4779.97042004]\n",
            "Cost function at 1700 th iteration is :-  [4779.97042004]\n",
            "Cost function at 1750 th iteration is :-  [4779.97042004]\n",
            "[[73.15655525 66.30199029 97.21104441  1.67291568 17.40894335 24.84907189\n",
            "  71.36221521 30.63657944 20.85552856 93.81747638 39.26002153 37.10255639\n",
            "   2.9373695  40.71145438 40.71125671 45.98640098 21.27609671 33.94315938\n",
            "  33.50328161 39.17452837]]\n",
            "[-0.72464819]\n"
          ]
        }
      ]
    },
    {
      "cell_type": "code",
      "source": [
        "plt.xlabel(\"No. of iterations (For alpha = 0.6)\")\n",
        "plt.ylabel(\"Cost function value \")\n",
        "plt.plot(iterations,J)\n",
        "plt.show()"
      ],
      "metadata": {
        "id": "Mv0To8zTcqak",
        "colab": {
          "base_uri": "https://localhost:8080/",
          "height": 279
        },
        "outputId": "b9ac55aa-79ef-4b3f-9141-17c6172bc2e7"
      },
      "execution_count": null,
      "outputs": [
        {
          "output_type": "display_data",
          "data": {
            "text/plain": [
              "<Figure size 432x288 with 1 Axes>"
            ],
            "image/png": "[encoded data removed]"
          },
          "metadata": {
            "needs_background": "light"
          }
        }
      ]
    },
    {
      "cell_type": "code",
      "source": [
        "print(l.CVS(X_CVS,Y_CVS))"
      ],
      "metadata": {
        "colab": {
          "base_uri": "https://localhost:8080/"
        },
        "id": "YyXseI3z50vl",
        "outputId": "072d1d63-b171-408d-ba29-fc1ee080fab5"
      },
      "execution_count": null,
      "outputs": [
        {
          "output_type": "stream",
          "name": "stdout",
          "text": [
            "[84.43047602]\n"
          ]
        }
      ]
    },
    {
      "cell_type": "code",
      "source": [
        "output = l.evaluate(X_test)"
      ],
      "metadata": {
        "id": "Ye5ZJPrLloKL"
      },
      "execution_count": null,
      "outputs": []
    },
    {
      "cell_type": "code",
      "source": [
        "df1[\"output label\"]=output.transpose()\n",
        "a = np.array(df1.columns)\n",
        "df2 = df1.drop(a[1:-1],axis = 1 )\n",
        "df2\n",
        "df2.to_csv('/content/drive/MyDrive/Project(WOC)/linear_regression_output(1).csv')"
      ],
      "metadata": {
        "id": "DSEBJeCtEzbZ"
      },
      "execution_count": null,
      "outputs": []
    },
    {
      "cell_type": "code",
      "source": [],
      "metadata": {
        "id": "1J3xFul0FUSu"
      },
      "execution_count": null,
      "outputs": []
    }
  ]
}