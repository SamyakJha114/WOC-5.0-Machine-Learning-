{
  "nbformat": 4,
  "nbformat_minor": 0,
  "metadata": {
    "colab": {
      "provenance": []
    },
    "kernelspec": {
      "name": "python3",
      "display_name": "Python 3"
    },
    "language_info": {
      "name": "python"
    }
  },
  "cells": [
    {
      "cell_type": "code",
      "execution_count": 11,
      "metadata": {
        "colab": {
          "base_uri": "https://localhost:8080/"
        },
        "id": "d4i0SHxMiAZx",
        "outputId": "df7d858b-27f5-4897-8a05-fb9531f7bf6f"
      },
      "outputs": [
        {
          "output_type": "stream",
          "name": "stdout",
          "text": [
            "Drive already mounted at /content/drive/; to attempt to forcibly remount, call drive.mount(\"/content/drive/\", force_remount=True).\n"
          ]
        }
      ],
      "source": [
        "from google.colab import drive\n",
        "drive.mount('/content/drive/')"
      ]
    },
    {
      "cell_type": "code",
      "source": [
        "import numpy as np\n",
        "import pandas as pd \n",
        "import matplotlib.pyplot as plt\n",
        "import random\n",
        "import math"
      ],
      "metadata": {
        "id": "TtQLdZupiL5T"
      },
      "execution_count": 12,
      "outputs": []
    },
    {
      "cell_type": "code",
      "source": [
        "df = pd.read_csv(\"/content/drive/MyDrive/Project(WOC)/polynomial_train.csv\" )\n",
        "X_train = np.array(df.iloc[0:45000,1:2],dtype = 'float64')\n",
        "Y_train = np.array(df.iloc[0:45000,4:5],dtype = 'float64')\n",
        "X_CVS = np.array(df.iloc[45000:50000,1:2],dtype = 'float64')\n",
        "Y_CVS = np.array(df.iloc[45000:50000,4:5],dtype = 'float64')"
      ],
      "metadata": {
        "id": "QcyY2M5PiPFd"
      },
      "execution_count": 13,
      "outputs": []
    },
    {
      "cell_type": "code",
      "source": [
        "J = []\n",
        "iterations = []"
      ],
      "metadata": {
        "id": "E09CJXPeiP7o"
      },
      "execution_count": 14,
      "outputs": []
    },
    {
      "cell_type": "code",
      "source": [
        "df1 = pd.read_csv(\"/content/drive/MyDrive/Project(WOC)/polynomial_test_data.csv\" )\n",
        "X_test = np.array(df1.iloc[0:20000,1:4])"
      ],
      "metadata": {
        "id": "K4ijLAQYiSBO"
      },
      "execution_count": 15,
      "outputs": []
    },
    {
      "cell_type": "code",
      "source": [
        "class Polynomial_Regression:\n",
        "  def __init__(self,X,Y,highest_degree,learning_rate,epoches,lamda):\n",
        "    # We will have a polynomial with highest degree as degree in each feature in the model\n",
        "    self.degree = highest_degree\n",
        "    X_transform = self.transform(X)\n",
        "    self.w = np.zeros((1,X_transform.shape[1]))\n",
        "    self.b = random.randint(0,100)\n",
        "    self.Train(X_transform,Y,learning_rate,epoches,lamda)\n",
        "  def Normalization(self,X):\n",
        "        #z-score normalization\n",
        "      self.mu = np.mean(X,axis = 0)\n",
        "      self.sigma= np.std(X,axis =0)\n",
        "      X_norm = (X-self.mu)/self.sigma\n",
        "      return X_norm\n",
        "  def transform(self,X):\n",
        "    a = X.copy()\n",
        "    for i in range(2,self.degree+1):\n",
        "      X = np.append(X,a**i,axis =1)\n",
        "    return X\n",
        "  def Train(self,X,Y,learning_rate,epoches,lamda):\n",
        "    X_norm = self.Normalization(X)\n",
        "    self.Gradientdescent(X_norm,Y,learning_rate,epoches,lamda)\n",
        "  def gradient(self,X,Y,lamda):\n",
        "    m = X.shape[0]#number of training examples \n",
        "    n = X.shape[1]#number of features \n",
        "    dj_dw = np.zeros((1,n))\n",
        "    dj_db = 0\n",
        "    dj_db = np.sum((np.dot(self.w,X.transpose()) + self.b - Y.reshape(1,-1)),axis =1)\n",
        "    dj_db /= m\n",
        "    dj_dw = np.dot((np.dot(self.w,X.transpose())+self.b-Y.reshape(1,-1)),X) + 2*lamda*(self.w)\n",
        "    dj_dw /= m\n",
        "    return dj_dw,dj_db\n",
        "  def Gradientdescent(self,X,Y,learning_rate,epoches,lamda):\n",
        "    for j in range (0,epoches):\n",
        "      C = self.cost_function(X,Y,lamda)\n",
        "      if j%50==0:\n",
        "         print(f\"Cost function at {j} th iteration is :-  {C}\")\n",
        "         J.append(C)\n",
        "         iterations.append(j)\n",
        "      dj_dw,dj_db = self.gradient(X,Y,lamda)\n",
        "      self.w -=(learning_rate)*dj_dw\n",
        "      self.b -=  (learning_rate)*dj_db\n",
        "      C_1 = self.cost_function(X,Y,lamda)\n",
        "      if C_1 > C:\n",
        "        learning_rate *= 0.1\n",
        "    print(self.w)\n",
        "  def cost_function(self,X,Y,lamda):\n",
        "    z = (np.dot(self.w,X.transpose())).reshape(1,X.shape[0]) \n",
        "    z -= Y.reshape(1,-1)\n",
        "    z += self.b\n",
        "    z = z**2\n",
        "    z /= 2*X.shape[0]\n",
        "    t = (self.w)**2\n",
        "    t = t*lamda\n",
        "    t /= X.shape[0]\n",
        "    return np.sum(z,axis = 1) + np.sum(t,axis = 1)\n",
        "  def evaluate(self,X_data):\n",
        "    X_data = self.transform(X_data)\n",
        "    X_data= (X_data-self.mu)/self.sigma\n",
        "    Y= (np.dot(self.w,X_data.transpose()) + self.b)\n",
        "    return Y\n",
        "  def CVS(self,X_check,Y_check):\n",
        "    Y_pred = self.evaluate(X_check)\n",
        "    return (1 - (np.sum((Y_check.reshape(1,-1) - Y_pred)**2,axis = 1))/(np.sum((Y_check.reshape(1,-1) - np.mean(Y_check.reshape(1,-1),axis = 1))**2,axis = 1)))*100 "
      ],
      "metadata": {
        "id": "nlWbIOpKiUqP"
      },
      "execution_count": 16,
      "outputs": []
    },
    {
      "cell_type": "code",
      "source": [
        "Poly_model = Polynomial_Regression(X_train,Y_train,5,0.1,4000,0)"
      ],
      "metadata": {
        "colab": {
          "base_uri": "https://localhost:8080/"
        },
        "id": "kkgU1L8SiavC",
        "outputId": "8f428602-167d-4c58-f5cf-ff1e8360e0e1"
      },
      "execution_count": 17,
      "outputs": [
        {
          "output_type": "stream",
          "name": "stdout",
          "text": [
            "Cost function at 0 th iteration is :-  [3.17126555e+12]\n",
            "Cost function at 50 th iteration is :-  [2.86193186e+10]\n",
            "Cost function at 100 th iteration is :-  [1.8478118e+10]\n",
            "Cost function at 150 th iteration is :-  [1.39463314e+10]\n",
            "Cost function at 200 th iteration is :-  [1.07304282e+10]\n",
            "Cost function at 250 th iteration is :-  [8.43619862e+09]\n",
            "Cost function at 300 th iteration is :-  [6.7994085e+09]\n",
            "Cost function at 350 th iteration is :-  [5.63165826e+09]\n",
            "Cost function at 400 th iteration is :-  [4.79853893e+09]\n",
            "Cost function at 450 th iteration is :-  [4.20415841e+09]\n",
            "Cost function at 500 th iteration is :-  [3.78010363e+09]\n",
            "Cost function at 550 th iteration is :-  [3.47756601e+09]\n",
            "Cost function at 600 th iteration is :-  [3.26172359e+09]\n",
            "Cost function at 650 th iteration is :-  [3.10773299e+09]\n",
            "Cost function at 700 th iteration is :-  [2.99786993e+09]\n",
            "Cost function at 750 th iteration is :-  [2.91948924e+09]\n",
            "Cost function at 800 th iteration is :-  [2.86356932e+09]\n",
            "Cost function at 850 th iteration is :-  [2.82367382e+09]\n",
            "Cost function at 900 th iteration is :-  [2.79521077e+09]\n",
            "Cost function at 950 th iteration is :-  [2.7749041e+09]\n",
            "Cost function at 1000 th iteration is :-  [2.76041651e+09]\n",
            "Cost function at 1050 th iteration is :-  [2.75008048e+09]\n",
            "Cost function at 1100 th iteration is :-  [2.74270634e+09]\n",
            "Cost function at 1150 th iteration is :-  [2.73744534e+09]\n",
            "Cost function at 1200 th iteration is :-  [2.73369193e+09]\n",
            "Cost function at 1250 th iteration is :-  [2.7310141e+09]\n",
            "Cost function at 1300 th iteration is :-  [2.72910363e+09]\n",
            "Cost function at 1350 th iteration is :-  [2.72774062e+09]\n",
            "Cost function at 1400 th iteration is :-  [2.72676819e+09]\n",
            "Cost function at 1450 th iteration is :-  [2.72607443e+09]\n",
            "Cost function at 1500 th iteration is :-  [2.72557947e+09]\n",
            "Cost function at 1550 th iteration is :-  [2.72522634e+09]\n",
            "Cost function at 1600 th iteration is :-  [2.72497441e+09]\n",
            "Cost function at 1650 th iteration is :-  [2.72479467e+09]\n",
            "Cost function at 1700 th iteration is :-  [2.72466644e+09]\n",
            "Cost function at 1750 th iteration is :-  [2.72457495e+09]\n",
            "Cost function at 1800 th iteration is :-  [2.72450968e+09]\n",
            "Cost function at 1850 th iteration is :-  [2.72446311e+09]\n",
            "Cost function at 1900 th iteration is :-  [2.72442989e+09]\n",
            "Cost function at 1950 th iteration is :-  [2.72440619e+09]\n",
            "Cost function at 2000 th iteration is :-  [2.72438928e+09]\n",
            "Cost function at 2050 th iteration is :-  [2.72437722e+09]\n",
            "Cost function at 2100 th iteration is :-  [2.72436861e+09]\n",
            "Cost function at 2150 th iteration is :-  [2.72436247e+09]\n",
            "Cost function at 2200 th iteration is :-  [2.72435809e+09]\n",
            "Cost function at 2250 th iteration is :-  [2.72435496e+09]\n",
            "Cost function at 2300 th iteration is :-  [2.72435273e+09]\n",
            "Cost function at 2350 th iteration is :-  [2.72435114e+09]\n",
            "Cost function at 2400 th iteration is :-  [2.72435001e+09]\n",
            "Cost function at 2450 th iteration is :-  [2.7243492e+09]\n",
            "Cost function at 2500 th iteration is :-  [2.72434862e+09]\n",
            "Cost function at 2550 th iteration is :-  [2.72434821e+09]\n",
            "Cost function at 2600 th iteration is :-  [2.72434791e+09]\n",
            "Cost function at 2650 th iteration is :-  [2.7243477e+09]\n",
            "Cost function at 2700 th iteration is :-  [2.72434755e+09]\n",
            "Cost function at 2750 th iteration is :-  [2.72434745e+09]\n",
            "Cost function at 2800 th iteration is :-  [2.72434737e+09]\n",
            "Cost function at 2850 th iteration is :-  [2.72434732e+09]\n",
            "Cost function at 2900 th iteration is :-  [2.72434728e+09]\n",
            "Cost function at 2950 th iteration is :-  [2.72434725e+09]\n",
            "Cost function at 3000 th iteration is :-  [2.72434723e+09]\n",
            "Cost function at 3050 th iteration is :-  [2.72434721e+09]\n",
            "Cost function at 3100 th iteration is :-  [2.7243472e+09]\n",
            "Cost function at 3150 th iteration is :-  [2.7243472e+09]\n",
            "Cost function at 3200 th iteration is :-  [2.72434719e+09]\n",
            "Cost function at 3250 th iteration is :-  [2.72434719e+09]\n",
            "Cost function at 3300 th iteration is :-  [2.72434719e+09]\n",
            "Cost function at 3350 th iteration is :-  [2.72434718e+09]\n",
            "Cost function at 3400 th iteration is :-  [2.72434718e+09]\n",
            "Cost function at 3450 th iteration is :-  [2.72434718e+09]\n",
            "Cost function at 3500 th iteration is :-  [2.72434718e+09]\n",
            "Cost function at 3550 th iteration is :-  [2.72434718e+09]\n",
            "Cost function at 3600 th iteration is :-  [2.72434718e+09]\n",
            "Cost function at 3650 th iteration is :-  [2.72434718e+09]\n",
            "Cost function at 3700 th iteration is :-  [2.72434718e+09]\n",
            "Cost function at 3750 th iteration is :-  [2.72434718e+09]\n",
            "Cost function at 3800 th iteration is :-  [2.72434718e+09]\n",
            "Cost function at 3850 th iteration is :-  [2.72434718e+09]\n",
            "Cost function at 3900 th iteration is :-  [2.72434718e+09]\n",
            "Cost function at 3950 th iteration is :-  [2.72434718e+09]\n",
            "[[ 4.90037964e+03 -4.32021665e+03 -2.21994656e+03 -1.62068761e+04\n",
            "   2.51707368e+06]]\n"
          ]
        }
      ]
    },
    {
      "cell_type": "code",
      "source": [
        "print(Poly_model.CVS(X_CVS,Y_CVS))\n",
        "print(Poly_model.CVS(X_train,Y_train))"
      ],
      "metadata": {
        "colab": {
          "base_uri": "https://localhost:8080/"
        },
        "id": "NdNoNWlvido8",
        "outputId": "e4f1576f-7898-4274-9278-2b2c5a6e7e23"
      },
      "execution_count": 18,
      "outputs": [
        {
          "output_type": "stream",
          "name": "stdout",
          "text": [
            "[99.92351886]\n",
            "[99.9140892]\n"
          ]
        }
      ]
    },
    {
      "cell_type": "code",
      "source": [
        "plt.scatter(X_train.transpose()[0],Y_train,label= \"feature 1\")\n",
        "plt.scatter(X_train.transpose()[0],Poly_model.evaluate(X_train),ls = '',marker = 'X',label = \"Prediction\")\n",
        "plt.legend()\n",
        "plt.ylabel(\"Value of Y \")\n",
        "plt.xlabel(\"Value\")"
      ],
      "metadata": {
        "id": "pp8IFEIEm7Pi",
        "colab": {
          "base_uri": "https://localhost:8080/",
          "height": 482
        },
        "outputId": "2642b6bd-8d0d-4e33-fbcf-4b0bd4510dff"
      },
      "execution_count": 19,
      "outputs": [
        {
          "output_type": "execute_result",
          "data": {
            "text/plain": [
              "Text(0.5, 0, 'Value')"
            ]
          },
          "metadata": {},
          "execution_count": 19
        },
        {
          "output_type": "display_data",
          "data": {
            "text/plain": [
              "<Figure size 640x480 with 1 Axes>"
            ],
            "image/png": "[encoded data removed]"
          },
          "metadata": {}
        }
      ]
    },
    {
      "cell_type": "code",
      "source": [
        "plt.xlabel(\"No. of iterations with only one feature in X \")\n",
        "plt.ylabel(\"Cost function value\")\n",
        "plt.plot(iterations,J)\n",
        "plt.show()"
      ],
      "metadata": {
        "colab": {
          "base_uri": "https://localhost:8080/",
          "height": 465
        },
        "id": "s_aj1Bn833Ds",
        "outputId": "ce783da1-d34e-41ac-fbbe-21a4c433fb6c"
      },
      "execution_count": 20,
      "outputs": [
        {
          "output_type": "display_data",
          "data": {
            "text/plain": [
              "<Figure size 640x480 with 1 Axes>"
            ],
            "image/png": "[encoded data removed]"
          },
          "metadata": {}
        }
      ]
    },
    {
      "cell_type": "code",
      "source": [],
      "metadata": {
        "id": "iDrgIh55ulXk"
      },
      "execution_count": 20,
      "outputs": []
    }
  ]
}